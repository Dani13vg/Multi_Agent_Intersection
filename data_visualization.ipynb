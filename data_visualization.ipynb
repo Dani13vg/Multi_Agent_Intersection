{
 "cells": [
  {
   "cell_type": "markdown",
   "id": "63e7160a",
   "metadata": {},
   "source": [
    "# Data Visualizations"
   ]
  },
  {
   "cell_type": "code",
   "execution_count": 3,
   "id": "db57652f",
   "metadata": {},
   "outputs": [],
   "source": [
    "import pandas as pd\n",
    "import matplotlib.pyplot as plt\n",
    "import matplotlib.animation as animation\n",
    "import numpy as np\n",
    "import os\n",
    "from glob import glob\n",
    "\n",
    "def visualize_multiple_csvs_as_video(csv_folder, output_video_path='intersection.mp4', interval_ms=100, max_frames=None):\n",
    "    all_csvs = sorted(glob(os.path.join(csv_folder, \"*.csv\")))\n",
    "\n",
    "    if not all_csvs:\n",
    "        print(\"No CSV files found.\")\n",
    "        return\n",
    "\n",
    "    df = pd.concat([pd.read_csv(csv_path) for csv_path in all_csvs])\n",
    "    df = df.sort_values(by='TIMESTAMP')\n",
    "\n",
    "    # Normalize track IDs to assign each car a unique color\n",
    "    track_ids = df['TRACK_ID'].unique()\n",
    "    colors = {track_id: plt.cm.tab20(i % 20) for i, track_id in enumerate(track_ids)}\n",
    "\n",
    "    # Group by timestamp\n",
    "    timestamps = sorted(df['TIMESTAMP'].unique())\n",
    "    if max_frames is not None:\n",
    "        timestamps = timestamps[:max_frames]\n",
    "\n",
    "    grouped = df.groupby('TIMESTAMP')\n",
    "\n",
    "    # Setup plot\n",
    "    fig, ax = plt.subplots(figsize=(8, 8))\n",
    "    ax.set_xlim(df['X'].min() - 10, df['X'].max() + 10)\n",
    "    ax.set_ylim(df['Y'].min() - 10, df['Y'].max() + 10)\n",
    "    ax.set_aspect('equal')\n",
    "\n",
    "    def init():\n",
    "        return []\n",
    "\n",
    "    def update(frame_idx):\n",
    "        ts = timestamps[frame_idx]\n",
    "        ax.clear()\n",
    "        ax.set_xlim(df['X'].min() - 10, df['X'].max() + 10)\n",
    "        ax.set_ylim(df['Y'].min() - 10, df['Y'].max() + 10)\n",
    "        ax.set_title(f\"Time: {ts:.1f}s\")\n",
    "        ax.set_xlabel(\"X\")\n",
    "        ax.set_ylabel(\"Y\")\n",
    "        ax.set_aspect('equal')\n",
    "\n",
    "        road_width = 50\n",
    "        ax.add_patch(plt.Rectangle((df['X'].min() - 20, -road_width / 2),\n",
    "                                (df['X'].max() - df['X'].min()) + 40,\n",
    "                                road_width, color='lightgray', zorder=0))\n",
    "        ax.add_patch(plt.Rectangle((-road_width / 2, df['Y'].min() - 20),\n",
    "                                road_width,\n",
    "                                (df['Y'].max() - df['Y'].min()) + 40,\n",
    "                                color='lightgray', zorder=0))\n",
    "\n",
    "        if ts not in grouped.groups:\n",
    "            return []\n",
    "\n",
    "        frame_df = grouped.get_group(ts)\n",
    "\n",
    "        for _, row in frame_df.iterrows():\n",
    "            x = float(row['X'])\n",
    "            y = float(row['Y'])\n",
    "            track_id = row['TRACK_ID']\n",
    "            yaw_deg = float(row['yaw'])             \n",
    "            speed = float(row['speed'])\n",
    "            color = colors.get(track_id, 'gray')\n",
    "\n",
    "            # Heading for arrow (correct as is)\n",
    "            heading_arrow = np.deg2rad(yaw_deg + 90)\n",
    "\n",
    "            # Vehicle rotation (flipped horizontally)\n",
    "            heading_rect = -heading_arrow\n",
    "\n",
    "            length = 4\n",
    "            width = 2\n",
    "            dx = -length / 2\n",
    "            dy = -width / 2\n",
    "\n",
    "            rect = plt.Rectangle((x + dx, y + dy), length, width,\n",
    "                                color=color, zorder=1)\n",
    "            transform = plt.matplotlib.transforms.Affine2D().rotate_around(x, y, heading_rect) + ax.transData\n",
    "            rect.set_transform(transform)\n",
    "            ax.add_patch(rect)\n",
    "\n",
    "            arrow_length = min(speed * 0.4, 10)\n",
    "            ax.arrow(x, y,\n",
    "                    -arrow_length * np.cos(heading_arrow),\n",
    "                    arrow_length * np.sin(heading_arrow),\n",
    "                    head_width=0.7,\n",
    "                    head_length=1.0,\n",
    "                    fc='black',\n",
    "                    ec='black',\n",
    "                    zorder=2)\n",
    "\n",
    "            ax.text(x, y + 2.5, str(track_id), fontsize=6, ha='center', zorder=3)\n",
    "\n",
    "        return []\n",
    "\n",
    "\n",
    "    ani = animation.FuncAnimation(fig, update, frames=len(timestamps), init_func=init, interval=interval_ms, blit=False)\n",
    "    ani.save(output_video_path, writer='ffmpeg', fps=1000 // interval_ms)\n",
    "    print(f\"Video saved to {output_video_path}\")\n"
   ]
  },
  {
   "cell_type": "code",
   "execution_count": 4,
   "id": "b149410d",
   "metadata": {},
   "outputs": [
    {
     "name": "stdout",
     "output_type": "stream",
     "text": [
      "C:\\Program Files (x86)\\Eclipse\\Sumo\\\n"
     ]
    }
   ],
   "source": [
    "import os\n",
    "print(os.environ.get(\"SUMO_HOME\"))\n"
   ]
  },
  {
   "cell_type": "code",
   "execution_count": 5,
   "id": "8889ca48",
   "metadata": {},
   "outputs": [
    {
     "name": "stdout",
     "output_type": "stream",
     "text": [
      "Video saved to simple_inclined_10m_intersection.mp4\n"
     ]
    },
    {
     "data": {
      "image/png": "[encoded data removed]",
      "text/plain": [
       "<Figure size 800x800 with 1 Axes>"
      ]
     },
     "metadata": {},
     "output_type": "display_data"
    }
   ],
   "source": [
    "path_to_csv_data = r'MTP/csv/train_inclined_10m'\n",
    "output_video_name = \"simple_inclined_10m_intersection.mp4\"\n",
    "\n",
    "visualize_multiple_csvs_as_video(\n",
    "    csv_folder=path_to_csv_data,\n",
    "    output_video_path=output_video_name,\n",
    "    interval_ms=100,\n",
    "    max_frames=250  # optional lenght of the video in frames (None for all frames)\n",
    ")\n"
   ]
  },
  {
   "cell_type": "code",
   "execution_count": null,
   "id": "d7c99bcb",
   "metadata": {},
   "outputs": [],
   "source": []
  }
 ],
 "metadata": {
  "kernelspec": {
   "display_name": "MTP",
   "language": "python",
   "name": "python3"
  },
  "language_info": {
   "codemirror_mode": {
    "name": "ipython",
    "version": 3
   },
   "file_extension": ".py",
   "mimetype": "text/x-python",
   "name": "python",
   "nbconvert_exporter": "python",
   "pygments_lexer": "ipython3",
   "version": "3.7.12"
  }
 },
 "nbformat": 4,
 "nbformat_minor": 5
}
